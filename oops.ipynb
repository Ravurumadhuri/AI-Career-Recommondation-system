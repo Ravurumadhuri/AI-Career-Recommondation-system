{
  "nbformat": 4,
  "nbformat_minor": 0,
  "metadata": {
    "colab": {
      "provenance": [],
      "authorship_tag": "ABX9TyNBSBEs0DzZ/YvlhWeUPldi",
      "include_colab_link": true
    },
    "kernelspec": {
      "name": "python3",
      "display_name": "Python 3"
    },
    "language_info": {
      "name": "python"
    }
  },
  "cells": [
    {
      "cell_type": "markdown",
      "metadata": {
        "id": "view-in-github",
        "colab_type": "text"
      },
      "source": [
        "<a href=\"https://colab.research.google.com/github/Ravurumadhuri/AI-Career-Recommondation-system/blob/main/oops.ipynb\" target=\"_parent\"><img src=\"https://colab.research.google.com/assets/colab-badge.svg\" alt=\"Open In Colab\"/></a>"
      ]
    },
    {
      "cell_type": "markdown",
      "source": [
        "Encapsulation using Encapsulation"
      ],
      "metadata": {
        "id": "5BbRQGCaJ9GI"
      }
    },
    {
      "cell_type": "code",
      "execution_count": null,
      "metadata": {
        "id": "kGDVaLNaJQ6b"
      },
      "outputs": [],
      "source": [
        "\n",
        "class Person:\n",
        "    def __init__(self):\n",
        "        self.__name = None     # Private\n",
        "        self._age = None       # Protected\n",
        "        self.country = None    # Public\n",
        "    def get_name(self):\n",
        "        return self.__name\n",
        "\n",
        "    def set_name(self, name):\n",
        "        self.__name = name\n",
        "\n",
        "class Employee(Person):\n",
        "    def show_details(self):\n",
        "        self._age = 25                  # Accessing protected\n",
        "        self.country = \"India\"          # Accessing public\n",
        "        print(\"Name:\", self.get_name())\n",
        "        print(\"Age:\", self._age)\n",
        "        print(\"Country:\", self.country)\n",
        "\n",
        "class TestAccess:\n",
        "    def display(self):\n",
        "        p = Person()\n",
        "        # p._age = 30\n",
        "        # p.__name = \"XYZ\"\n",
        "\n",
        "        p.country = \"USA\"\n",
        "        p.set_name(\"Dhana\")\n",
        "\n",
        "        print(\"Name:\", p.get_name())\n",
        "        print(\"Country:\", p.country)\n",
        "\n",
        "\n",
        "emp = Employee()\n",
        "emp.set_name(\"Madhuri\")\n",
        "emp.show_details()\n",
        "\n",
        "print(\"--------------------------\")\n",
        "\n",
        "test = TestAccess()\n",
        "test.display()\n"
      ]
    },
    {
      "cell_type": "markdown",
      "source": [],
      "metadata": {
        "id": "qkvKR5TiJ8ae"
      }
    }
  ]
}